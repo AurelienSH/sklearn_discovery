{
 "cells": [
  {
   "cell_type": "code",
   "execution_count": 3,
   "metadata": {},
   "outputs": [],
   "source": [
    "import glob\n",
    "import numpy as np\n",
    "import sklearn"
   ]
  },
  {
   "cell_type": "code",
   "execution_count": 2,
   "metadata": {},
   "outputs": [],
   "source": [
    "def get_files_from_folder(folder):\n",
    "    return [(file, file.split(\"/\")[2]) for file in glob.glob(f\"{folder}/*/*\")]"
   ]
  },
  {
   "cell_type": "code",
   "execution_count": 4,
   "metadata": {},
   "outputs": [],
   "source": [
    "def make_data(files_classes,dictClass):\n",
    "    X=[]\n",
    "    y=[]\n",
    "    for file, class_ in files_classes:\n",
    "        with open(file,\"r\") as f:\n",
    "            X.append(f.readline())\n",
    "        y.append(dictClass[class_])\n",
    "    \n",
    "    X=np.array(X)\n",
    "    return X, y\n"
   ]
  },
  {
   "cell_type": "code",
   "execution_count": 5,
   "metadata": {},
   "outputs": [],
   "source": [
    "folder=\"data/imdb_smol\"\n",
    "dictClass={\"neg\":0,\"pos\":1}"
   ]
  },
  {
   "cell_type": "code",
   "execution_count": null,
   "metadata": {},
   "outputs": [],
   "source": [
    "files_classes=get_files_from_folder(folder)\n",
    "make_data(files_classes,dictClass)"
   ]
  },
  {
   "cell_type": "code",
   "execution_count": 2,
   "metadata": {},
   "outputs": [
    {
     "name": "stdout",
     "output_type": "stream",
     "text": [
      "['fasttext-wiki-news-subwords-300', 'conceptnet-numberbatch-17-06-300', 'word2vec-ruscorpora-300', 'word2vec-google-news-300', 'glove-wiki-gigaword-50', 'glove-wiki-gigaword-100', 'glove-wiki-gigaword-200', 'glove-wiki-gigaword-300', 'glove-twitter-25', 'glove-twitter-50', 'glove-twitter-100', 'glove-twitter-200', '__testing_word2vec-matrix-synopsis']\n"
     ]
    }
   ],
   "source": [
    "import gensim.downloader\n",
    "print(list(gensim.downloader.info()['models'].keys()))\n"
   ]
  },
  {
   "cell_type": "code",
   "execution_count": 4,
   "metadata": {},
   "outputs": [
    {
     "data": {
      "text/plain": [
       "array([-0.55861 , -0.19584 , -0.33839 ,  0.18527 , -0.044554,  0.48783 ,\n",
       "        0.33814 , -0.47216 ,  0.46317 ,  0.8176  ,  0.5452  , -0.03216 ,\n",
       "       -4.3912  , -0.25148 ,  0.67953 ,  1.1567  ,  0.57753 , -0.48108 ,\n",
       "       -1.1966  ,  0.32942 ,  0.1282  , -1.1236  ,  1.3015  , -0.89643 ,\n",
       "       -0.59816 ], dtype=float32)"
      ]
     },
     "execution_count": 4,
     "metadata": {},
     "output_type": "execute_result"
    }
   ],
   "source": [
    "glove_vectors = gensim.downloader.load('glove-twitter-25')\n",
    "glove_vectors['car']"
   ]
  }
 ],
 "metadata": {
  "kernelspec": {
   "display_name": ".venv",
   "language": "python",
   "name": "python3"
  },
  "language_info": {
   "codemirror_mode": {
    "name": "ipython",
    "version": 3
   },
   "file_extension": ".py",
   "mimetype": "text/x-python",
   "name": "python",
   "nbconvert_exporter": "python",
   "pygments_lexer": "ipython3",
   "version": "3.10.6"
  },
  "orig_nbformat": 4,
  "vscode": {
   "interpreter": {
    "hash": "8e4fe1bd27dd0057c0eb255a1bcbd90ef6058406d81c5072d2c1aad9ca73a6ab"
   }
  }
 },
 "nbformat": 4,
 "nbformat_minor": 2
}
